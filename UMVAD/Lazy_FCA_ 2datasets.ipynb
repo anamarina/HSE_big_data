{
 "cells": [
  {
   "cell_type": "markdown",
   "metadata": {},
   "source": [
    " ## <center> Домашнее задание по курсу УМвАД"
   ]
  },
  {
   "cell_type": "markdown",
   "metadata": {},
   "source": [
    "### **Задача:** \n",
    "* Бинарная классификация (со значениями целевого признака + и -) с помощью \"ленивого\" алгоритма.\n",
    "* Тестирование на двух датасетах (SPECT, CARS)\n",
    "\n"
   ]
  },
  {
   "cell_type": "markdown",
   "metadata": {},
   "source": [
    "## <font color=green>  #1 Набор данных SPECT\n",
    "\n",
    "Для выполнения домашней работы по курсу \"Упорядоченные множества в анализе данных\" был выбран набор данныx Single Proton Emission Computed Tomography (SPECT) heart data. \n",
    "\n",
    "Источник: http://archive.ics.uci.edu/ml/machine-learning-databases/spect/\n",
    "\n",
    "Сводная информация по датасету: \n",
    "\t* The dataset describes diagnosing of cardiac Single Proton Emission Computed Tomography (SPECT) images.  \n",
    "\t* Each of the patients is classified into two categories: normal and abnormal. \n",
    "\t* The database of 267 SPECT image sets (patients) was processed to extract features that summarize the original SPECT images.  \n",
    "\t* As a result, 44 continuous feature pattern was created for each patient.\n",
    "\t* The pattern was further processed to obtain 22 binary feature patterns.\n",
    "\t* The CLIP3 algorithm was used to generate classification rules from these patterns.\n",
    "\t* The CLIP3 algorithm generated rules that were 84.0% accurate (as compared with cardilogists' diagnoses)."
   ]
  },
  {
   "cell_type": "markdown",
   "metadata": {},
   "source": [
    "Набор данных не содержит пропущенных значений. В обучающей выборке содержится по 40 примеров каждого класса ('0' и '1'). В тестовой выборке - 15 примеров класса '0' и 172 примера класса '1'. "
   ]
  },
  {
   "cell_type": "code",
   "execution_count": 1,
   "metadata": {
    "collapsed": true
   },
   "outputs": [],
   "source": [
    "import numpy\n",
    "\n",
    "# Загружаем данные из обучающей выборки\n",
    "data = open(\"SPECT.train\",\"r\")\n",
    "train = [ i.strip().split(\",\") for i in data]\n",
    "plus = [i for i in train if i[0]==\"1\"]\n",
    "minus = [i for i in train if i[0]==\"0\"]\n",
    "train_joined = [''.join(i) for i in train]\n",
    "data.close()"
   ]
  },
  {
   "cell_type": "code",
   "execution_count": 2,
   "metadata": {
    "collapsed": false
   },
   "outputs": [
    {
     "name": "stdout",
     "output_type": "stream",
     "text": [
      "len train: 80\n",
      "len of one plus: 23 overall len plus: 40\n",
      "len of one minus: 23 overall len minus:  40\n"
     ]
    }
   ],
   "source": [
    "print('len train:', len(train))\n",
    "print('len of one plus:', len(plus[0]), 'overall len plus:', len(plus))\n",
    "print('len of one minus:', len(plus[0]), 'overall len minus: ', len(minus))"
   ]
  },
  {
   "cell_type": "code",
   "execution_count": 3,
   "metadata": {
    "collapsed": false
   },
   "outputs": [],
   "source": [
    "# Загружаем данные из тестовой выборки\n",
    "data = open(\"SPECT.test\",\"r\")\n",
    "test = [ i.strip().split(\",\") for i in data]\n",
    "test_joined = [''.join(i) for i in test]\n",
    "data.close()"
   ]
  },
  {
   "cell_type": "code",
   "execution_count": 7,
   "metadata": {
    "collapsed": false
   },
   "outputs": [
    {
     "name": "stdout",
     "output_type": "stream",
     "text": [
      "len test:  187\n"
     ]
    }
   ],
   "source": [
    "print('len test: ', len(test_joined))"
   ]
  },
  {
   "cell_type": "code",
   "execution_count": 8,
   "metadata": {
    "collapsed": false
   },
   "outputs": [
    {
     "name": "stdout",
     "output_type": "stream",
     "text": [
      "11001100011000111001100\n",
      "11001100001001000000000\n",
      "10001010010100110000001\n",
      "10111001010011101000010\n",
      "10010000100101101000001\n",
      "10011010010101001000011\n",
      "11001001111011101000101\n",
      "11001000011000110000000\n",
      "10000000100001000000000\n",
      "11001110011100101101000\n",
      "11000100011001110001000\n",
      "11000110001100000001000\n",
      "10000010100001000010001\n",
      "11000100011000100011000\n",
      "11001100011000001001100\n",
      "11010100101001000010010\n",
      "11100111101111000100011\n",
      "11000011001110000100001\n",
      "11000100000000000000100\n",
      "11110101101011001000110\n",
      "11000100001000001010100\n",
      "11011111111111110010111\n",
      "10011100111001111010110\n",
      "11101111000110001100100\n",
      "11100101001000000000000\n",
      "11100111001000001000000\n",
      "11010100100001000100010\n",
      "11111011101001111001100\n",
      "11100110001000001001000\n",
      "10000000000000001000000\n",
      "11100100111101111001100\n",
      "11100011001100011001110\n",
      "10000001100011001000011\n",
      "11000100100001000000011\n",
      "10011000110000000000100\n",
      "10000000100001000000011\n",
      "10110001100010001000000\n",
      "10000000000000000101000\n",
      "11011100111001011000111\n",
      "10111001110011100000011\n",
      "10110001100011000000011\n",
      "10000011000111000110000\n",
      "10011011100111001000111\n",
      "10000000000000000000001\n",
      "10000000000000000000010\n",
      "10010010100001000000001\n",
      "10000000000100001000001\n",
      "10010100111001100110011\n",
      "11000110001100000000000\n",
      "11011100110000111000110\n",
      "10010000100001000000001\n",
      "10000000100001000000001\n",
      "10110001100011001110011\n",
      "10000010000100000000101\n",
      "11000000100001100000001\n",
      "11010110110111111001011\n",
      "10000000100001000000011\n",
      "10000000000000000000001\n",
      "10110000100011000000100\n",
      "10110001000011000100001\n",
      "11111110010101011001101\n",
      "10100011000110000110000\n",
      "10100110001101000000011\n",
      "11011100110001111000111\n",
      "10000000000000000000100\n",
      "11110111001111000011110\n",
      "10000000100001101000111\n",
      "11000100001000001001100\n",
      "11101110010010101001100\n",
      "11110101101011000011011\n",
      "11100111100011001100111\n",
      "10110011100011000000011\n",
      "11011100111001111011111\n",
      "10010100001001000000011\n",
      "10001001110011100100000\n",
      "10010001100011000011011\n",
      "10110001100011001110111\n",
      "11011100111001100000010\n",
      "10111111111101110001011\n",
      "10000000100011000000111\n",
      "11000100100001111100111\n",
      "10111010010111101110011\n",
      "10010000100001000000011\n",
      "11111110111111111011111\n",
      "11111110011010111001100\n",
      "11111101111111111101111\n",
      "11111101111011110000100\n",
      "10100111000110001101101\n",
      "11010100100001101000111\n",
      "10000000100101000000010\n",
      "10001000010001111001100\n",
      "11011000110001111001111\n",
      "10010000100001000000000\n",
      "10010010110101110100000\n",
      "11000110001000000111001\n",
      "10001001110111100000100\n",
      "10001000010000010000101\n",
      "11110101001111000000111\n",
      "10011001110011000010011\n",
      "11010111101111001010111\n",
      "11100111101111000001000\n",
      "10011000110001110000011\n",
      "11001000001100100111110\n",
      "10000000100000001000100\n",
      "10010000000000000000100\n",
      "11000000101001000000001\n",
      "11000110001100000001000\n",
      "11000100001000100000000\n",
      "11001100111000000001000\n",
      "10000000000000000000000\n",
      "11000100011000100000000\n",
      "10000000000000000000001\n",
      "11000100000000101000000\n",
      "10001000010000000100000\n",
      "10000000000000000000000\n",
      "10010100111001000000000\n",
      "10000000010000100000001\n",
      "11100111001100000001000\n",
      "11000100001000000001000\n",
      "11100101001010000000011\n",
      "10000000000000000000000\n",
      "11000100001000000000000\n",
      "11000101001010000001000\n",
      "11011100111001111001111\n",
      "10010000100001000000011\n",
      "11000100001000000000000\n",
      "10001001010000100000010\n",
      "10011010000100100011100\n",
      "11010000001001000000000\n",
      "11110111101110000000100\n",
      "10000000000001000000000\n",
      "11001000000000001000001\n",
      "10011001110010011000010\n",
      "10000000100000000000001\n",
      "11000110011100100000000\n",
      "11110000000011001110011\n",
      "11010100101001000101110\n",
      "11101100111010011000110\n",
      "10011000100001101000111\n",
      "10010000100011000000010\n",
      "10111011110101111000111\n",
      "10110010100111001001101\n",
      "11111111111111011001111\n",
      "11010101011001111001101\n",
      "11001100011000111001101\n",
      "10010000000001000000001\n",
      "11110011010010101000111\n",
      "10010000100101001000111\n",
      "11111111011001011001111\n",
      "11000100111001101001100\n",
      "10010000100001000000011\n",
      "10001000010000000000000\n",
      "11110101101011000000010\n",
      "11110011101111000111100\n",
      "10010000100001001001011\n",
      "10000001000010000000011\n",
      "10001000110001100000010\n",
      "11100110011100000001000\n",
      "11111111111011111111111\n",
      "11111111101111011111111\n",
      "10100000000001100100100\n",
      "11011111100111110100011\n",
      "10000111111111110000010\n",
      "10011000111011110000011\n",
      "11000000000001101000000\n",
      "10010100101001010010010\n",
      "10000001000011000110011\n",
      "10110000000011000000001\n",
      "10000000000000000000000\n",
      "11110110001100001000100\n",
      "11011100111001101011100\n",
      "11000100011000100000110\n",
      "00000000000000000000000\n",
      "00011000110001100000010\n",
      "00000000000000000000000\n",
      "00000000010000100001001\n",
      "00000000010000100000000\n",
      "00000000000000000000000\n",
      "00000000000000000000000\n",
      "00000100001000000001000\n",
      "00011000110000000000100\n",
      "00000000000000000000000\n",
      "00000000000000000000000\n",
      "01100010001110001000000\n",
      "01010100100001011000000\n",
      "01010100110000101000000\n",
      "00000000000000000000000\n"
     ]
    }
   ],
   "source": [
    "for i in test_joined:\n",
    "    print(i)\n",
    "\n",
    "test1 = ''.join(train[0])\n",
    "test2 = ''.join(train[1])"
   ]
  },
  {
   "cell_type": "code",
   "execution_count": 12,
   "metadata": {
    "collapsed": false
   },
   "outputs": [],
   "source": [
    "train_bin = []\n",
    "\n",
    "for i in range(0,len(train)):\n",
    "    temp = ''.join(train[i][1:])\n",
    "    train_bin.append(int(temp,2))\n",
    "\n",
    "#print(len(train_bin), len(train))\n",
    "plus_bin = train_bin[0:39]\n",
    "minus_bin = train_bin[40:79]"
   ]
  },
  {
   "cell_type": "code",
   "execution_count": 14,
   "metadata": {
    "collapsed": false
   },
   "outputs": [
    {
     "name": "stdout",
     "output_type": "stream",
     "text": [
      "['0', '0', '0', '1', '0', '0', '0', '0', '0', '0', '0', '0', '0', '0', '0', '0', '0', '0', '0', '0', '0', '0']\n",
      "1000000000000000000\n"
     ]
    }
   ],
   "source": [
    "det_str = train[43][1:]\n",
    "print(det_str)\n",
    "to_detect = int(''.join(det_str))\n",
    "print(to_detect)"
   ]
  },
  {
   "cell_type": "code",
   "execution_count": 20,
   "metadata": {
    "collapsed": true
   },
   "outputs": [],
   "source": [
    "# Список голосов за каждый из тренировочных объектов\n",
    "vote_list = []\n",
    "\n",
    "# Функция фальсификации гипотез\n",
    "def falsification(mask_bin, context_bin):\n",
    "    for i in range(0,len(context_bin)-1):\n",
    "        if mask_bin & context_bin[i] == mask_bin:\n",
    "            return 0\n",
    "        else:\n",
    "            return 1"
   ]
  },
  {
   "cell_type": "code",
   "execution_count": 21,
   "metadata": {
    "collapsed": true
   },
   "outputs": [],
   "source": [
    "# Функция подсчета голосов для неизвестного объекта\n",
    "def get_vote(to_detect, plus_bin, minus_bin):\n",
    "    vote_count = 0\n",
    "    for i in range(0,len(plus)-1):\n",
    "        mask = to_detect & plus_bin[i]\n",
    "        vote_count += falsification(mask, minus_bin)\n",
    "    for i in range(0,len(plus)-1):\n",
    "        mask = to_detect & minus_bin[i]\n",
    "        vote_count -= falsification(mask, plus_bin)\n",
    "    return vote_count"
   ]
  },
  {
   "cell_type": "code",
   "execution_count": 22,
   "metadata": {
    "collapsed": true
   },
   "outputs": [],
   "source": [
    "# Для каждого элемента из тренировочного набора считаем, сколько голосов за него\n",
    "for i in range(0, len(train)):\n",
    "    det_str = train[i][1:]\n",
    "    to_detect = int(''.join(det_str))\n",
    "    vote = get_vote(to_detect, plus_bin, minus_bin)\n",
    "    vote_list.append(vote)\n",
    "    #print('vote for object #', i, '('+''.join(det_str)+')', vote)"
   ]
  },
  {
   "cell_type": "markdown",
   "metadata": {},
   "source": [
    "В наборе данных есть несколько одинаковых объектов, которые классифицируются в обучающей выборка и как \"+\", и как \"-\".\n",
    "Помимо этого, выборка несбалансированная: в отрицательном контексте меньше признаков, поэтому он с большей вероятностью вложится в положительный.\n",
    "Используя вероятностный подход, можно посмотреть распределение голосов для отрицательных и положительных примеров. "
   ]
  },
  {
   "cell_type": "code",
   "execution_count": 25,
   "metadata": {
    "collapsed": false
   },
   "outputs": [
    {
     "name": "stdout",
     "output_type": "stream",
     "text": [
      "Среднее (+):  13.9487179487 , станд. отклонение:  0.871889135175\n",
      "Среднее (-):  8.925 , станд. отклонение:  1.41482662365\n"
     ]
    }
   ],
   "source": [
    "import numpy as np\n",
    "print('Среднее (+): ', np.mean(vote_list[0:39]), ', станд. отклонение: ', np.std(vote_list[0:39])/np.sqrt(40))\n",
    "print('Среднее (-): ', np.mean(vote_list[40:89]), ', станд. отклонение: ', np.std(vote_list[40:89])/np.sqrt(40))"
   ]
  },
  {
   "cell_type": "markdown",
   "metadata": {},
   "source": [
    "Для положительных примеров выборочное среднее - 13.9487 и смещено вправо от распределения. Для отрицательных -- среднее 8.925 со смещением влево. В качестве решающего правила можно выбрать количество голосов > 11. Выберем отсечение ближе к среднему положительных голосов, так как дисперсия положительных оказалась на порядок меньше, чем у отрицательных."
   ]
  },
  {
   "cell_type": "code",
   "execution_count": 27,
   "metadata": {
    "collapsed": false
   },
   "outputs": [
    {
     "name": "stdout",
     "output_type": "stream",
     "text": [
      "Accuracy:  0.786096256684492\n",
      "True-positive:  139 true-negative:  8\n",
      "False-negative:  33 false-positive:  7\n",
      "Uncertain: 0\n"
     ]
    }
   ],
   "source": [
    "# Словарь, в котором хранится количество правильно и неправильно угаданных примеров\n",
    "\n",
    "cv_res = {\n",
    " \"11\": 0,  #true positive\n",
    " \"10\": 0,  #false negative\n",
    " \"01\": 0,  #false positive\n",
    " \"00\": 0,  #true negative\n",
    " \"NaN\": 0, #unclassified\n",
    "}\n",
    "\n",
    "#Основная часть: смотрим на данные из теста и угадываем их.\n",
    "for i in test_joined:\n",
    "    det_str = i[1:]\n",
    "    to_detect = int(''.join(det_str))\n",
    "    vote = get_vote(to_detect, plus_bin, minus_bin)\n",
    "    if vote > 11:\n",
    "        decision = '1'\n",
    "    else:\n",
    "        decision = '0'\n",
    "    if i[0] == '1' and decision == '1':\n",
    "        cv_res['11'] +=1\n",
    "    elif i[0] == '1' and decision == '0':\n",
    "        cv_res['10'] +=1\n",
    "    elif i[0] == '0' and decision == '1':\n",
    "        cv_res['01'] +=1\n",
    "    elif i[0] == '0' and decision == '0':\n",
    "        cv_res['00'] +=1\n",
    "    else:\n",
    "        cv_res['NaN'] +=1\n",
    "\n",
    "print('Accuracy: ', (cv_res['11']+cv_res['00'])/(cv_res['11']+cv_res['00']+cv_res['01']+cv_res['10']+cv_res['NaN']))\n",
    "print('True-positive: ', cv_res['11'], 'true-negative: ', cv_res['00'])\n",
    "print('False-negative: ', cv_res['10'], 'false-positive: ', cv_res['01'])\n",
    "print('Uncertain:', cv_res['NaN'])"
   ]
  },
  {
   "cell_type": "markdown",
   "metadata": {},
   "source": [
    "По сравнению с CLIP3 алгоритмом, показавшим точность 84% (в описании данных), точность lazy алгоритма классификации 78,6% показывает, что общую структуру в данных он ловит хорошо."
   ]
  },
  {
   "cell_type": "markdown",
   "metadata": {},
   "source": [
    "##  <font color=green> #2 Набор данных Cars"
   ]
  },
  {
   "cell_type": "markdown",
   "metadata": {},
   "source": [
    "Источник: http://archive.ics.uci.edu/ml/machine-learning-databases/car/\n",
    "\n",
    "Сводная информация по данным:\n",
    "* Количество объектов: 1728\n",
    "* Количество признаков: 6\n",
    "\n",
    "Признаки и значения: \n",
    "* **buying (цена)**:       v-high, high, med, low\n",
    "* **maint (расходы на содержание)**:        v-high, high, med, low\n",
    "* **doors (количество дверей)**:       2, 3, 4, 5-more\n",
    "* **persons (вместительность)**:      2, 4, more\n",
    "* **lug_boot (размер багажника)**:     small, med, big\n",
    "* **safety (оценка безопасности)**:       low, med, high"
   ]
  },
  {
   "cell_type": "code",
   "execution_count": 31,
   "metadata": {
    "collapsed": false
   },
   "outputs": [
    {
     "name": "stdout",
     "output_type": "stream",
     "text": [
      "len all data: 1728\n"
     ]
    }
   ],
   "source": [
    "# Загружаем данные\n",
    "data = open(\"car.data\",\"r\")\n",
    "all_data = [ i.strip().split(\",\") for i in data]\n",
    "plus = [i for i in train if i[6]==\"acc\" or i[6]==\"good\" or i[6]==\"v-good\"]\n",
    "minus = [i for i in train if i[6]==\"unacc\"]\n",
    "print('len all data:', len(all_data))"
   ]
  },
  {
   "cell_type": "code",
   "execution_count": 37,
   "metadata": {
    "collapsed": true
   },
   "outputs": [],
   "source": [
    "# Обрабатываем данные для анализа\n",
    "# Переведем в бинарный вид\n",
    "\n",
    "\"\"\"   \n",
    "index    name         values                   replacement values\n",
    "0        buying       vhigh, high, med, low   11, 10, 01, 00\n",
    "1        maint        vhigh, high, med, low   11, 10, 01, 00\n",
    "2        doors        2, 3, 4, 5-more          00, 01, 10, 11\n",
    "3        persons      2, 4, more               00, 10, 11\n",
    "4        lug_boot     small, med, big          01, 10, 11\n",
    "5        safety       low, med, high           01, 10, 11\n",
    "\"\"\"\n",
    "\n",
    "data = [['','','','','','',''] for x in range(len(all_data))]\n",
    "replacement_dict = {\n",
    " \"vhigh\": '11',\n",
    " \"high\": '10',\n",
    " \"med\": '01',\n",
    " \"low\": '00',\n",
    " \"2\": '00',\n",
    " \"3\": '01',\n",
    " \"4\": '10',\n",
    " \"5more\": '11',\n",
    " \"more\": '11',\n",
    " \"small\": '01',\n",
    " \"low\": '01',\n",
    " \"med\": '10',\n",
    " \"big\": '11',\n",
    " \"high\": '11',\n",
    " \"acc\": '1',\n",
    " \"good\": '1',\n",
    " \"vgood\": '1',\n",
    " \"unacc\": '0',}"
   ]
  },
  {
   "cell_type": "code",
   "execution_count": 38,
   "metadata": {
    "collapsed": false
   },
   "outputs": [],
   "source": [
    "for i in range(0, len(data)):\n",
    "    for j in range(0, 7):\n",
    "        data[i][j] = replacement_dict[all_data[i][j]]\n",
    "\n",
    "# print(train[0])\n",
    "# print(data[0])\n",
    "\n",
    "for i in range(0,len(data)):\n",
    "    data[i] = ''.join(data[i])"
   ]
  },
  {
   "cell_type": "code",
   "execution_count": 39,
   "metadata": {
    "collapsed": true
   },
   "outputs": [],
   "source": [
    "from random import shuffle\n",
    "\n",
    "#Получаем тренировочную и тестовую выборки \n",
    "\n",
    "plus = [a for a in data if a[-1]==\"1\"] # полный положительный контекст\n",
    "minus = [a for a in data if a[-1]==\"0\"] # полный отрицательный контекст\n",
    "\n",
    "plus_shuffle = []\n",
    "plus_shuffle = plus\n",
    "shuffle(plus_shuffle)\n",
    "#print(plus_shuffle[0])\n",
    "\n",
    "minus_shuffle = []\n",
    "minus_shuffle = minus\n",
    "shuffle(minus_shuffle)\n",
    "#print(type(int(minus_shuffle[0],2)))\n",
    "\n",
    "train = plus_shuffle[:100] + minus_shuffle[:100]\n",
    "test = plus_shuffle[101:201] + minus_shuffle[101:201]\n",
    "remain = plus_shuffle[200:] + minus_shuffle[200:]\n",
    "#print(type(int(train[0],2)))\n",
    "#print(len(test))\n",
    "#print(len(remain))\n",
    "#print(plus)\n",
    "#print(minus)"
   ]
  },
  {
   "cell_type": "code",
   "execution_count": 40,
   "metadata": {
    "collapsed": true
   },
   "outputs": [],
   "source": [
    "# Бинаризуем наши train, test контексты\n",
    "train_bin = []\n",
    "test_bin = []\n",
    "for i in range(0,len(train)):\n",
    "    train_bin.append(int(train[i][:-1],2))\n",
    "    test_bin.append(int(test[i][:-1],2))\n",
    "    \n",
    "plus_bin = train_bin[:100]\n",
    "minus_bin = train_bin[100:]\n",
    "\n",
    "#print(len(plus_bin))\n",
    "#print(len(minus_bin))"
   ]
  },
  {
   "cell_type": "code",
   "execution_count": 41,
   "metadata": {
    "collapsed": true
   },
   "outputs": [],
   "source": [
    "#Список голосов за каждый из тренировочных объектов\n",
    "vote_list = []\n",
    "\n",
    "#Функция фальсификации гипотез\n",
    "def falsification(mask_bin, context_bin):\n",
    "    for i in range(0,len(context_bin)-1):\n",
    "        if mask_bin & context_bin[i] == mask_bin:\n",
    "            return 0\n",
    "        else:\n",
    "            return 1"
   ]
  },
  {
   "cell_type": "code",
   "execution_count": 42,
   "metadata": {
    "collapsed": true
   },
   "outputs": [],
   "source": [
    "#Функция подсчета голосов для неизвестного объекта\n",
    "def get_vote(to_detect, plus_bin, minus_bin):\n",
    "    vote_count = 0\n",
    "    for i in range(0,len(plus_bin)-1):\n",
    "        mask = to_detect & plus_bin[i]\n",
    "        vote_count += falsification(mask, minus_bin)\n",
    "    for i in range(0,len(plus_bin)-1):\n",
    "        mask = to_detect & minus_bin[i]\n",
    "        vote_count -= falsification(mask, plus_bin)\n",
    "    return vote_count"
   ]
  },
  {
   "cell_type": "code",
   "execution_count": 43,
   "metadata": {
    "collapsed": true
   },
   "outputs": [],
   "source": [
    "# Считаем количество голосов за каждый элемент из обучающей выборки\n",
    "\n",
    "for i in range(0, len(train_bin)):\n",
    "    to_detect = train_bin[i]\n",
    "    vote = get_vote(to_detect, plus_bin, minus_bin)\n",
    "    vote_list.append(vote)\n",
    "    #print('vote for object #', i, '('+train[i]+')', vote)\n",
    "    \n",
    "cv_res = {\n",
    " \"11\": 0,  # true positive\n",
    " \"10\": 0,  # false negative\n",
    " \"01\": 0,  # false positive\n",
    " \"00\": 0,  # true negative\n",
    " \"NaN\": 0} # unclassified"
   ]
  },
  {
   "cell_type": "code",
   "execution_count": 44,
   "metadata": {
    "collapsed": false
   },
   "outputs": [
    {
     "name": "stdout",
     "output_type": "stream",
     "text": [
      "Accuracy:  0.7522590361445783\n",
      "True-positive:  995 true-negative:  4\n",
      "False-negative:  18 false-positive:  311\n",
      "Uncertain: 0\n"
     ]
    }
   ],
   "source": [
    "# Считаем на оставшейся части\n",
    "# Порог -20 получен эмпирически (ниже/выше дает хуже результаты)\n",
    "\n",
    "for i in remain:\n",
    "    det_str = i[:-1]\n",
    "    to_detect = int(''.join(det_str))\n",
    "    vote = get_vote(to_detect, plus_bin, minus_bin)\n",
    "    if vote >= -20:\n",
    "        decision = '1'\n",
    "    elif vote < -20:\n",
    "        decision = '0'\n",
    "    else:\n",
    "        decision = 'NaN'\n",
    "    if i[0] == '1' and decision == '1':\n",
    "        cv_res['11'] +=1\n",
    "    elif i[0] == '1' and decision == '0':\n",
    "        cv_res['10'] +=1\n",
    "    elif i[0] == '0' and decision == '1':\n",
    "        cv_res['01'] +=1\n",
    "    elif i[0] == '0' and decision == '0':\n",
    "        cv_res['00'] +=1\n",
    "    else:\n",
    "        cv_res['NaN'] +=1\n",
    "\n",
    "print('Accuracy: ', (cv_res['11']+cv_res['00'])/(cv_res['11']+cv_res['00']+cv_res['01']+cv_res['10']+cv_res['NaN']))\n",
    "print('True-positive: ', cv_res['11'], 'true-negative: ', cv_res['00'])\n",
    "print('False-negative: ', cv_res['10'], 'false-positive: ', cv_res['01'])\n",
    "print('Uncertain:', cv_res['NaN'])"
   ]
  },
  {
   "cell_type": "markdown",
   "metadata": {},
   "source": [
    "Возможно, что для повышения точности классификатора, нужно использовать более структурированный подход, например, используя минимальные гипотезы."
   ]
  },
  {
   "cell_type": "code",
   "execution_count": null,
   "metadata": {
    "collapsed": true
   },
   "outputs": [],
   "source": []
  }
 ],
 "metadata": {
  "kernelspec": {
   "display_name": "Python 3",
   "language": "python",
   "name": "python3"
  },
  "language_info": {
   "codemirror_mode": {
    "name": "ipython",
    "version": 3
   },
   "file_extension": ".py",
   "mimetype": "text/x-python",
   "name": "python",
   "nbconvert_exporter": "python",
   "pygments_lexer": "ipython3",
   "version": "3.6.0"
  }
 },
 "nbformat": 4,
 "nbformat_minor": 2
}
